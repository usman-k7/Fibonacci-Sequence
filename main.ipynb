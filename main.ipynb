{
  "nbformat": 4,
  "nbformat_minor": 0,
  "metadata": {
    "colab": {
      "provenance": []
    },
    "kernelspec": {
      "name": "python3",
      "display_name": "Python 3"
    },
    "language_info": {
      "name": "python"
    }
  },
  "cells": [
    {
      "cell_type": "code",
      "execution_count": 1,
      "metadata": {
        "id": "l6yYoB__vgXj",
        "colab": {
          "base_uri": "https://localhost:8080/"
        },
        "outputId": "ec44f490-9f91-40b6-81a5-f0f50809df63"
      },
      "outputs": [
        {
          "output_type": "stream",
          "name": "stdout",
          "text": [
            " Fibonacci Sequence Generator \n",
            "Enter how many terms you want: 10\n",
            "\n",
            "Fibonacci Sequence:\n",
            "[0, 1, 1, 2, 3, 5, 8, 13, 21, 34]\n",
            "\n",
            "Sum of first 10 Fibonacci numbers: 88\n"
          ]
        }
      ],
      "source": [
        "def generate_fibonacci(n_terms):\n",
        "\n",
        "    if n_terms <= 0:\n",
        "        raise ValueError(\"Please enter a positive integer.\")\n",
        "\n",
        "    sequence = [0, 1]\n",
        "    for i in range(2, n_terms):\n",
        "        sequence.append(sequence[-1] + sequence[-2])\n",
        "\n",
        "    return sequence[:n_terms]\n",
        "\n",
        "\n",
        "def main():\n",
        "    print(\" Fibonacci Sequence Generator \")\n",
        "    try:\n",
        "        n = int(input(\"Enter how many terms you want: \"))\n",
        "        fib = generate_fibonacci(n)\n",
        "        print(\"\\nFibonacci Sequence:\")\n",
        "        print(fib)\n",
        "\n",
        "        # Bonus: Calculate and show sum\n",
        "        print(f\"\\nSum of first {n} Fibonacci numbers: {sum(fib)}\")\n",
        "\n",
        "    except ValueError as e:\n",
        "        print(f\"Error: {e}\")\n",
        "\n",
        "\n",
        "if __name__ == \"__main__\":\n",
        "    main()\n"
      ]
    }
  ]
}